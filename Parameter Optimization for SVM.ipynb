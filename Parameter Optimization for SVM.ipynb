{
 "cells": [
  {
   "cell_type": "markdown",
   "id": "fffdacfe",
   "metadata": {},
   "source": [
    "### Importing Libraries"
   ]
  },
  {
   "cell_type": "code",
   "execution_count": 8,
   "id": "08573a7d",
   "metadata": {},
   "outputs": [],
   "source": [
    "import pandas as pd\n",
    "import numpy as np\n",
    "import matplotlib.pyplot as plt\n",
    "from sklearn.svm import SVC\n",
    "from sklearn.model_selection import train_test_split\n",
    "from sklearn.metrics import accuracy_score\n",
    "from sklearn.preprocessing import LabelEncoder, StandardScaler\n",
    "from tqdm import tqdm\n",
    "import random"
   ]
  },
  {
   "cell_type": "code",
   "execution_count": 3,
   "id": "7b2227ac",
   "metadata": {},
   "outputs": [],
   "source": [
    "df = pd.read_csv(\"Dry Bean Dataset.csv\")"
   ]
  },
  {
   "cell_type": "code",
   "execution_count": 4,
   "id": "efdd70ed",
   "metadata": {},
   "outputs": [],
   "source": [
    "x = df.drop('Class', axis=1)\n",
    "y = df['Class']"
   ]
  },
  {
   "cell_type": "code",
   "execution_count": 5,
   "id": "1afed32d",
   "metadata": {},
   "outputs": [],
   "source": [
    "le = LabelEncoder()\n",
    "y = le.fit_transform(y)"
   ]
  },
  {
   "cell_type": "code",
   "execution_count": 6,
   "id": "2abbdb0d",
   "metadata": {},
   "outputs": [],
   "source": [
    "scaler = StandardScaler()\n",
    "x_scaled = scaler.fit_transform(x)"
   ]
  },
  {
   "cell_type": "code",
   "execution_count": 9,
   "id": "44886bcf",
   "metadata": {},
   "outputs": [
    {
     "name": "stderr",
     "output_type": "stream",
     "text": [
      "Samples: 100%|██████████| 10/10 [3:44:02<00:00, 1344.26s/it] \n"
     ]
    }
   ],
   "source": [
    "results = []\n",
    "all_convergences = []\n",
    "for sample_id in tqdm(range(10), desc=\"Samples\"):\n",
    "    x_train, x_test, y_train, y_test = train_test_split(\n",
    "        x_scaled, y, test_size=0.3, stratify=y, random_state=sample_id)\n",
    "\n",
    "    best_acc = 0\n",
    "    best_params = {}\n",
    "    acc_list = []\n",
    "\n",
    "    cumulative_best = []\n",
    "\n",
    "    for i in range(100):\n",
    "        kernel = random.choice(['linear', 'poly', 'rbf', 'sigmoid'])\n",
    "        C = random.choice([0.1, 1, 10, 100])\n",
    "        gamma = random.choice(['scale', 0.01, 0.1, 1])\n",
    "        degree = random.choice([2, 3, 4]) if kernel == 'poly' else 3\n",
    "\n",
    "        model = SVC(kernel=kernel, C=C, gamma=gamma, degree=degree)\n",
    "        model.fit(x_train, y_train)\n",
    "        preds = model.predict(x_test)\n",
    "        acc = accuracy_score(y_test, preds)\n",
    "\n",
    "        if acc > best_acc:\n",
    "            best_acc = acc\n",
    "            best_params = {\n",
    "                'kernel': kernel,\n",
    "                'C': C,\n",
    "                'gamma': gamma,\n",
    "                'degree': degree\n",
    "            }\n",
    "\n",
    "        cumulative_best.append(best_acc)\n",
    "\n",
    "    all_convergences.append((sample_id, cumulative_best))\n",
    "    results.append({\n",
    "        'Sample': f\"S{sample_id + 1}\",\n",
    "        'Best Accuracy': best_acc,\n",
    "        'Kernel': best_params['kernel'],\n",
    "        'C': best_params['C'],\n",
    "        'Gamma': best_params['gamma'],\n",
    "        'Degree': best_params['degree']\n",
    "    })\n"
   ]
  },
  {
   "cell_type": "code",
   "execution_count": 10,
   "id": "383b3355",
   "metadata": {},
   "outputs": [
    {
     "name": "stdout",
     "output_type": "stream",
     "text": [
      "\n",
      "Final Results Table:\n",
      "  Sample  Best Accuracy Kernel    C  Gamma  Degree\n",
      "0     S1       0.934133    rbf  100   0.01       3\n",
      "1     S2       0.934378    rbf   10    0.1       3\n",
      "2     S3       0.937071    rbf   10  scale       3\n",
      "3     S4       0.929726    rbf  100  scale       3\n",
      "4     S5       0.931195    rbf  100   0.01       3\n",
      "5     S6       0.941234    rbf  100   0.01       3\n",
      "6     S7       0.932174    rbf   10    0.1       3\n",
      "7     S8       0.933154    rbf  100  scale       3\n",
      "8     S9       0.931929    rbf  100   0.01       3\n",
      "9    S10       0.931440    rbf   10    0.1       3\n"
     ]
    }
   ],
   "source": [
    "df_results = pd.DataFrame(results)\n",
    "print(\"\\nFinal Results Table:\")\n",
    "print(df_results)"
   ]
  },
  {
   "cell_type": "code",
   "execution_count": 11,
   "id": "41a2c2cc",
   "metadata": {},
   "outputs": [],
   "source": [
    "best_sample_id = df_results['Best Accuracy'].idxmax()\n",
    "best_sample_conv = all_convergences[best_sample_id][1]"
   ]
  },
  {
   "cell_type": "code",
   "execution_count": 21,
   "id": "c2e56086",
   "metadata": {},
   "outputs": [
    {
     "data": {
      "image/png": "[encoded data removed]",
      "text/plain": [
       "<Figure size 1000x600 with 1 Axes>"
      ]
     },
     "metadata": {},
     "output_type": "display_data"
    }
   ],
   "source": [
    "plt.figure(figsize=(10, 6))\n",
    "plt.plot(range(100), best_sample_conv, linestyle='-', color='steelblue')\n",
    "plt.title(\"Convergence Graph\")\n",
    "plt.xlabel(\"Iterations\")\n",
    "plt.ylabel(\"Accuracy\")\n",
    "plt.grid(True)\n",
    "plt.tight_layout()\n",
    "plt.show()"
   ]
  }
 ],
 "metadata": {
  "kernelspec": {
   "display_name": "Python 3",
   "language": "python",
   "name": "python3"
  },
  "language_info": {
   "codemirror_mode": {
    "name": "ipython",
    "version": 3
   },
   "file_extension": ".py",
   "mimetype": "text/x-python",
   "name": "python",
   "nbconvert_exporter": "python",
   "pygments_lexer": "ipython3",
   "version": "3.11.9"
  }
 },
 "nbformat": 4,
 "nbformat_minor": 5
}
